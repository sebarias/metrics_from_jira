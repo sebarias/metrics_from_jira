{
 "cells": [
  {
   "cell_type": "code",
   "execution_count": 1,
   "metadata": {},
   "outputs": [],
   "source": [
    "import numpy as np\n",
    "import pandas as pd\n",
    "import cycle_time_analys as ana\n",
    "import matplotlib.pyplot as plt\n",
    "import seaborn as sns\n",
    "sns.set(style=\"ticks\", palette = \"pastel\")\n",
    "plt.style.use('seaborn') \n",
    "from datetime import datetime\n",
    "\n",
    "import warnings\n",
    "warnings.filterwarnings(\"ignore\")"
   ]
  },
  {
   "cell_type": "code",
   "execution_count": 2,
   "metadata": {},
   "outputs": [
    {
     "name": "stdout",
     "output_type": "stream",
     "text": [
      "start at:  0\n",
      "start at:  50\n",
      "start at:  100\n",
      "start at:  150\n",
      "start at:  200\n",
      "start at:  250\n"
     ]
    }
   ],
   "source": [
    "df = ana.get_issues_from('JET')"
   ]
  },
  {
   "cell_type": "code",
   "execution_count": 119,
   "metadata": {},
   "outputs": [
    {
     "data": {
      "text/plain": [
       "Index(['key', 'id', 'summary', 'url', 'issuetype', 'issuetype_id',\n",
       "       'date_created', 'date_resolution', 'story_points', 'assignee',\n",
       "       'assignee_full', 'assignee_active', 'status', 'status_id', 'resolution',\n",
       "       'resolution_id', 'lead_time', 'labels', 'sprint_count', 'statuses',\n",
       "       'quality', 'date_starting', 'cycle_time'],\n",
       "      dtype='object')"
      ]
     },
     "execution_count": 119,
     "metadata": {},
     "output_type": "execute_result"
    }
   ],
   "source": [
    "df.columns"
   ]
  },
  {
   "cell_type": "code",
   "execution_count": 84,
   "metadata": {},
   "outputs": [
    {
     "data": {
      "text/html": [
       "<div>\n",
       "<style scoped>\n",
       "    .dataframe tbody tr th:only-of-type {\n",
       "        vertical-align: middle;\n",
       "    }\n",
       "\n",
       "    .dataframe tbody tr th {\n",
       "        vertical-align: top;\n",
       "    }\n",
       "\n",
       "    .dataframe thead th {\n",
       "        text-align: right;\n",
       "    }\n",
       "</style>\n",
       "<table border=\"1\" class=\"dataframe\">\n",
       "  <thead>\n",
       "    <tr style=\"text-align: right;\">\n",
       "      <th></th>\n",
       "      <th>key</th>\n",
       "      <th>id</th>\n",
       "      <th>summary</th>\n",
       "      <th>url</th>\n",
       "      <th>issuetype</th>\n",
       "      <th>issuetype_id</th>\n",
       "      <th>date_created</th>\n",
       "      <th>date_resolution</th>\n",
       "      <th>story_points</th>\n",
       "      <th>assignee</th>\n",
       "      <th>...</th>\n",
       "      <th>status_id</th>\n",
       "      <th>resolution</th>\n",
       "      <th>resolution_id</th>\n",
       "      <th>lead_time</th>\n",
       "      <th>labels</th>\n",
       "      <th>sprint_count</th>\n",
       "      <th>statuses</th>\n",
       "      <th>quality</th>\n",
       "      <th>date_starting</th>\n",
       "      <th>cycle_time</th>\n",
       "    </tr>\n",
       "  </thead>\n",
       "  <tbody>\n",
       "    <tr>\n",
       "      <th>0</th>\n",
       "      <td>JET-421</td>\n",
       "      <td>474153</td>\n",
       "      <td>Configurar Jest</td>\n",
       "      <td>http://jira.bch.bancodechile.cl:8080/rest/api/...</td>\n",
       "      <td>Task</td>\n",
       "      <td>3</td>\n",
       "      <td>2021-05-20 16:40:26-04:00</td>\n",
       "      <td>2021-05-24 15:19:02-04:00</td>\n",
       "      <td>2.0</td>\n",
       "      <td>dsagredo</td>\n",
       "      <td>...</td>\n",
       "      <td>10102</td>\n",
       "      <td>Done</td>\n",
       "      <td>10000</td>\n",
       "      <td>3 days 22:38:36</td>\n",
       "      <td>[]</td>\n",
       "      <td>1</td>\n",
       "      <td>[{'from': 'TO DO', 'to': 'DONE', 'date_created...</td>\n",
       "      <td>1</td>\n",
       "      <td>2021-05-24 15:19:02.995000-04:00</td>\n",
       "      <td>-1 days +23:59:59.005000</td>\n",
       "    </tr>\n",
       "    <tr>\n",
       "      <th>1</th>\n",
       "      <td>JET-413</td>\n",
       "      <td>470363</td>\n",
       "      <td>Presentacion 1 Patrones</td>\n",
       "      <td>http://jira.bch.bancodechile.cl:8080/rest/api/...</td>\n",
       "      <td>Task</td>\n",
       "      <td>3</td>\n",
       "      <td>2021-05-18 00:36:24-04:00</td>\n",
       "      <td>2021-05-18 17:20:29-04:00</td>\n",
       "      <td>2.0</td>\n",
       "      <td>cgaeteo</td>\n",
       "      <td>...</td>\n",
       "      <td>10102</td>\n",
       "      <td>Done</td>\n",
       "      <td>10000</td>\n",
       "      <td>0 days 16:44:05</td>\n",
       "      <td>[backend]</td>\n",
       "      <td>1</td>\n",
       "      <td>[{'from': 'TO DO', 'to': 'In Progress', 'date_...</td>\n",
       "      <td>0</td>\n",
       "      <td>2021-05-18 17:18:24.891000-04:00</td>\n",
       "      <td>0 days 00:02:04.109000</td>\n",
       "    </tr>\n",
       "    <tr>\n",
       "      <th>2</th>\n",
       "      <td>JET-408</td>\n",
       "      <td>470358</td>\n",
       "      <td>Documentar creación de apk</td>\n",
       "      <td>http://jira.bch.bancodechile.cl:8080/rest/api/...</td>\n",
       "      <td>Task</td>\n",
       "      <td>3</td>\n",
       "      <td>2021-05-18 00:36:13-04:00</td>\n",
       "      <td>2021-05-23 20:29:48-04:00</td>\n",
       "      <td>4.0</td>\n",
       "      <td>fsilvac</td>\n",
       "      <td>...</td>\n",
       "      <td>10102</td>\n",
       "      <td>Done</td>\n",
       "      <td>10000</td>\n",
       "      <td>5 days 19:53:35</td>\n",
       "      <td>[QA]</td>\n",
       "      <td>1</td>\n",
       "      <td>[{'from': 'TO DO', 'to': 'In Progress', 'date_...</td>\n",
       "      <td>0</td>\n",
       "      <td>2021-05-23 20:16:32.746000-04:00</td>\n",
       "      <td>0 days 00:13:15.254000</td>\n",
       "    </tr>\n",
       "    <tr>\n",
       "      <th>3</th>\n",
       "      <td>JET-403</td>\n",
       "      <td>470353</td>\n",
       "      <td>Configurar Flipper</td>\n",
       "      <td>http://jira.bch.bancodechile.cl:8080/rest/api/...</td>\n",
       "      <td>Task</td>\n",
       "      <td>3</td>\n",
       "      <td>2021-05-18 00:36:01-04:00</td>\n",
       "      <td>2021-05-20 19:29:58-04:00</td>\n",
       "      <td>2.0</td>\n",
       "      <td>rherrerag</td>\n",
       "      <td>...</td>\n",
       "      <td>10102</td>\n",
       "      <td>Done</td>\n",
       "      <td>10000</td>\n",
       "      <td>2 days 18:53:57</td>\n",
       "      <td>[front]</td>\n",
       "      <td>1</td>\n",
       "      <td>[{'from': 'TO DO', 'to': 'In Progress', 'date_...</td>\n",
       "      <td>0</td>\n",
       "      <td>2021-05-20 19:29:51.391000-04:00</td>\n",
       "      <td>0 days 00:00:06.609000</td>\n",
       "    </tr>\n",
       "    <tr>\n",
       "      <th>4</th>\n",
       "      <td>JET-397</td>\n",
       "      <td>470347</td>\n",
       "      <td>Documentar Flipper</td>\n",
       "      <td>http://jira.bch.bancodechile.cl:8080/rest/api/...</td>\n",
       "      <td>Task</td>\n",
       "      <td>3</td>\n",
       "      <td>2021-05-18 00:35:48-04:00</td>\n",
       "      <td>2021-05-20 17:10:58-04:00</td>\n",
       "      <td>5.0</td>\n",
       "      <td>goleat</td>\n",
       "      <td>...</td>\n",
       "      <td>10102</td>\n",
       "      <td>Done</td>\n",
       "      <td>10000</td>\n",
       "      <td>2 days 16:35:10</td>\n",
       "      <td>[QA]</td>\n",
       "      <td>1</td>\n",
       "      <td>[{'from': 'TO DO', 'to': 'In Progress', 'date_...</td>\n",
       "      <td>0</td>\n",
       "      <td>2021-05-18 12:30:19.102000-04:00</td>\n",
       "      <td>2 days 04:40:38.898000</td>\n",
       "    </tr>\n",
       "    <tr>\n",
       "      <th>...</th>\n",
       "      <td>...</td>\n",
       "      <td>...</td>\n",
       "      <td>...</td>\n",
       "      <td>...</td>\n",
       "      <td>...</td>\n",
       "      <td>...</td>\n",
       "      <td>...</td>\n",
       "      <td>...</td>\n",
       "      <td>...</td>\n",
       "      <td>...</td>\n",
       "      <td>...</td>\n",
       "      <td>...</td>\n",
       "      <td>...</td>\n",
       "      <td>...</td>\n",
       "      <td>...</td>\n",
       "      <td>...</td>\n",
       "      <td>...</td>\n",
       "      <td>...</td>\n",
       "      <td>...</td>\n",
       "      <td>...</td>\n",
       "      <td>...</td>\n",
       "    </tr>\n",
       "    <tr>\n",
       "      <th>263</th>\n",
       "      <td>JET-13</td>\n",
       "      <td>379713</td>\n",
       "      <td>Integrar TEF (Front)</td>\n",
       "      <td>http://jira.bch.bancodechile.cl:8080/rest/api/...</td>\n",
       "      <td>Task</td>\n",
       "      <td>3</td>\n",
       "      <td>2021-01-26 10:05:57-03:00</td>\n",
       "      <td>2021-01-28 10:09:33-03:00</td>\n",
       "      <td>3.0</td>\n",
       "      <td>dsagredo</td>\n",
       "      <td>...</td>\n",
       "      <td>10102</td>\n",
       "      <td>Done</td>\n",
       "      <td>10000</td>\n",
       "      <td>2 days 00:03:36</td>\n",
       "      <td>[]</td>\n",
       "      <td>1</td>\n",
       "      <td>[{'from': 'TO DO', 'to': 'In Progress', 'date_...</td>\n",
       "      <td>0</td>\n",
       "      <td>2021-01-27 09:32:38.972000-03:00</td>\n",
       "      <td>1 days 00:36:54.028000</td>\n",
       "    </tr>\n",
       "    <tr>\n",
       "      <th>264</th>\n",
       "      <td>JET-12</td>\n",
       "      <td>379708</td>\n",
       "      <td>Integrar Menu Servicios (front)</td>\n",
       "      <td>http://jira.bch.bancodechile.cl:8080/rest/api/...</td>\n",
       "      <td>Task</td>\n",
       "      <td>3</td>\n",
       "      <td>2021-01-26 10:02:04-03:00</td>\n",
       "      <td>2021-02-04 13:09:43-03:00</td>\n",
       "      <td>2.0</td>\n",
       "      <td>rherrerag</td>\n",
       "      <td>...</td>\n",
       "      <td>10102</td>\n",
       "      <td>Done</td>\n",
       "      <td>10000</td>\n",
       "      <td>9 days 03:07:39</td>\n",
       "      <td>[]</td>\n",
       "      <td>1</td>\n",
       "      <td>[{'from': 'TO DO', 'to': 'DONE', 'date_created...</td>\n",
       "      <td>1</td>\n",
       "      <td>2021-02-04 13:09:43.491000-03:00</td>\n",
       "      <td>-1 days +23:59:59.509000</td>\n",
       "    </tr>\n",
       "    <tr>\n",
       "      <th>265</th>\n",
       "      <td>JET-11</td>\n",
       "      <td>379707</td>\n",
       "      <td>Integrar Menú Lateral (Front)</td>\n",
       "      <td>http://jira.bch.bancodechile.cl:8080/rest/api/...</td>\n",
       "      <td>Task</td>\n",
       "      <td>3</td>\n",
       "      <td>2021-01-26 10:01:37-03:00</td>\n",
       "      <td>2021-01-29 13:12:45-03:00</td>\n",
       "      <td>2.0</td>\n",
       "      <td>dsagredo</td>\n",
       "      <td>...</td>\n",
       "      <td>10102</td>\n",
       "      <td>Done</td>\n",
       "      <td>10000</td>\n",
       "      <td>3 days 03:11:08</td>\n",
       "      <td>[]</td>\n",
       "      <td>1</td>\n",
       "      <td>[{'from': 'TO DO', 'to': 'In Progress', 'date_...</td>\n",
       "      <td>0</td>\n",
       "      <td>2021-01-29 12:46:07.429000-03:00</td>\n",
       "      <td>0 days 00:26:37.571000</td>\n",
       "    </tr>\n",
       "    <tr>\n",
       "      <th>266</th>\n",
       "      <td>JET-10</td>\n",
       "      <td>379706</td>\n",
       "      <td>Configurar Tab Bar (Front)</td>\n",
       "      <td>http://jira.bch.bancodechile.cl:8080/rest/api/...</td>\n",
       "      <td>Task</td>\n",
       "      <td>3</td>\n",
       "      <td>2021-01-26 10:01:05-03:00</td>\n",
       "      <td>2021-01-27 09:31:43-03:00</td>\n",
       "      <td>2.0</td>\n",
       "      <td>dsagredo</td>\n",
       "      <td>...</td>\n",
       "      <td>10102</td>\n",
       "      <td>Done</td>\n",
       "      <td>10000</td>\n",
       "      <td>0 days 23:30:38</td>\n",
       "      <td>[]</td>\n",
       "      <td>1</td>\n",
       "      <td>[{'from': 'TO DO', 'to': 'TO DO', 'date_create...</td>\n",
       "      <td>2</td>\n",
       "      <td>2021-01-26 12:02:13.553000-03:00</td>\n",
       "      <td>0 days 21:29:29.447000</td>\n",
       "    </tr>\n",
       "    <tr>\n",
       "      <th>267</th>\n",
       "      <td>JET-9</td>\n",
       "      <td>379703</td>\n",
       "      <td>Integrar Osiris en Proyecto miBanco3.0 (front)</td>\n",
       "      <td>http://jira.bch.bancodechile.cl:8080/rest/api/...</td>\n",
       "      <td>Task</td>\n",
       "      <td>3</td>\n",
       "      <td>2021-01-26 09:57:50-03:00</td>\n",
       "      <td>2021-02-04 13:14:26-03:00</td>\n",
       "      <td>5.0</td>\n",
       "      <td>dsagredo</td>\n",
       "      <td>...</td>\n",
       "      <td>10102</td>\n",
       "      <td>Done</td>\n",
       "      <td>10000</td>\n",
       "      <td>9 days 03:16:36</td>\n",
       "      <td>[]</td>\n",
       "      <td>1</td>\n",
       "      <td>[{'from': 'TO DO', 'to': 'DONE', 'date_created...</td>\n",
       "      <td>1</td>\n",
       "      <td>2021-02-04 13:14:26.968000-03:00</td>\n",
       "      <td>-1 days +23:59:59.032000</td>\n",
       "    </tr>\n",
       "  </tbody>\n",
       "</table>\n",
       "<p>268 rows × 23 columns</p>\n",
       "</div>"
      ],
      "text/plain": [
       "         key      id                                         summary  \\\n",
       "0    JET-421  474153                                 Configurar Jest   \n",
       "1    JET-413  470363                         Presentacion 1 Patrones   \n",
       "2    JET-408  470358                      Documentar creación de apk   \n",
       "3    JET-403  470353                              Configurar Flipper   \n",
       "4    JET-397  470347                              Documentar Flipper   \n",
       "..       ...     ...                                             ...   \n",
       "263   JET-13  379713                            Integrar TEF (Front)   \n",
       "264   JET-12  379708                 Integrar Menu Servicios (front)   \n",
       "265   JET-11  379707                   Integrar Menú Lateral (Front)   \n",
       "266   JET-10  379706                      Configurar Tab Bar (Front)   \n",
       "267    JET-9  379703  Integrar Osiris en Proyecto miBanco3.0 (front)   \n",
       "\n",
       "                                                   url issuetype issuetype_id  \\\n",
       "0    http://jira.bch.bancodechile.cl:8080/rest/api/...      Task            3   \n",
       "1    http://jira.bch.bancodechile.cl:8080/rest/api/...      Task            3   \n",
       "2    http://jira.bch.bancodechile.cl:8080/rest/api/...      Task            3   \n",
       "3    http://jira.bch.bancodechile.cl:8080/rest/api/...      Task            3   \n",
       "4    http://jira.bch.bancodechile.cl:8080/rest/api/...      Task            3   \n",
       "..                                                 ...       ...          ...   \n",
       "263  http://jira.bch.bancodechile.cl:8080/rest/api/...      Task            3   \n",
       "264  http://jira.bch.bancodechile.cl:8080/rest/api/...      Task            3   \n",
       "265  http://jira.bch.bancodechile.cl:8080/rest/api/...      Task            3   \n",
       "266  http://jira.bch.bancodechile.cl:8080/rest/api/...      Task            3   \n",
       "267  http://jira.bch.bancodechile.cl:8080/rest/api/...      Task            3   \n",
       "\n",
       "                  date_created            date_resolution  story_points  \\\n",
       "0    2021-05-20 16:40:26-04:00  2021-05-24 15:19:02-04:00           2.0   \n",
       "1    2021-05-18 00:36:24-04:00  2021-05-18 17:20:29-04:00           2.0   \n",
       "2    2021-05-18 00:36:13-04:00  2021-05-23 20:29:48-04:00           4.0   \n",
       "3    2021-05-18 00:36:01-04:00  2021-05-20 19:29:58-04:00           2.0   \n",
       "4    2021-05-18 00:35:48-04:00  2021-05-20 17:10:58-04:00           5.0   \n",
       "..                         ...                        ...           ...   \n",
       "263  2021-01-26 10:05:57-03:00  2021-01-28 10:09:33-03:00           3.0   \n",
       "264  2021-01-26 10:02:04-03:00  2021-02-04 13:09:43-03:00           2.0   \n",
       "265  2021-01-26 10:01:37-03:00  2021-01-29 13:12:45-03:00           2.0   \n",
       "266  2021-01-26 10:01:05-03:00  2021-01-27 09:31:43-03:00           2.0   \n",
       "267  2021-01-26 09:57:50-03:00  2021-02-04 13:14:26-03:00           5.0   \n",
       "\n",
       "      assignee  ... status_id resolution resolution_id       lead_time  \\\n",
       "0     dsagredo  ...     10102       Done         10000 3 days 22:38:36   \n",
       "1      cgaeteo  ...     10102       Done         10000 0 days 16:44:05   \n",
       "2      fsilvac  ...     10102       Done         10000 5 days 19:53:35   \n",
       "3    rherrerag  ...     10102       Done         10000 2 days 18:53:57   \n",
       "4       goleat  ...     10102       Done         10000 2 days 16:35:10   \n",
       "..         ...  ...       ...        ...           ...             ...   \n",
       "263   dsagredo  ...     10102       Done         10000 2 days 00:03:36   \n",
       "264  rherrerag  ...     10102       Done         10000 9 days 03:07:39   \n",
       "265   dsagredo  ...     10102       Done         10000 3 days 03:11:08   \n",
       "266   dsagredo  ...     10102       Done         10000 0 days 23:30:38   \n",
       "267   dsagredo  ...     10102       Done         10000 9 days 03:16:36   \n",
       "\n",
       "        labels sprint_count  \\\n",
       "0           []            1   \n",
       "1    [backend]            1   \n",
       "2         [QA]            1   \n",
       "3      [front]            1   \n",
       "4         [QA]            1   \n",
       "..         ...          ...   \n",
       "263         []            1   \n",
       "264         []            1   \n",
       "265         []            1   \n",
       "266         []            1   \n",
       "267         []            1   \n",
       "\n",
       "                                              statuses quality  \\\n",
       "0    [{'from': 'TO DO', 'to': 'DONE', 'date_created...       1   \n",
       "1    [{'from': 'TO DO', 'to': 'In Progress', 'date_...       0   \n",
       "2    [{'from': 'TO DO', 'to': 'In Progress', 'date_...       0   \n",
       "3    [{'from': 'TO DO', 'to': 'In Progress', 'date_...       0   \n",
       "4    [{'from': 'TO DO', 'to': 'In Progress', 'date_...       0   \n",
       "..                                                 ...     ...   \n",
       "263  [{'from': 'TO DO', 'to': 'In Progress', 'date_...       0   \n",
       "264  [{'from': 'TO DO', 'to': 'DONE', 'date_created...       1   \n",
       "265  [{'from': 'TO DO', 'to': 'In Progress', 'date_...       0   \n",
       "266  [{'from': 'TO DO', 'to': 'TO DO', 'date_create...       2   \n",
       "267  [{'from': 'TO DO', 'to': 'DONE', 'date_created...       1   \n",
       "\n",
       "                        date_starting               cycle_time  \n",
       "0    2021-05-24 15:19:02.995000-04:00 -1 days +23:59:59.005000  \n",
       "1    2021-05-18 17:18:24.891000-04:00   0 days 00:02:04.109000  \n",
       "2    2021-05-23 20:16:32.746000-04:00   0 days 00:13:15.254000  \n",
       "3    2021-05-20 19:29:51.391000-04:00   0 days 00:00:06.609000  \n",
       "4    2021-05-18 12:30:19.102000-04:00   2 days 04:40:38.898000  \n",
       "..                                ...                      ...  \n",
       "263  2021-01-27 09:32:38.972000-03:00   1 days 00:36:54.028000  \n",
       "264  2021-02-04 13:09:43.491000-03:00 -1 days +23:59:59.509000  \n",
       "265  2021-01-29 12:46:07.429000-03:00   0 days 00:26:37.571000  \n",
       "266  2021-01-26 12:02:13.553000-03:00   0 days 21:29:29.447000  \n",
       "267  2021-02-04 13:14:26.968000-03:00 -1 days +23:59:59.032000  \n",
       "\n",
       "[268 rows x 23 columns]"
      ]
     },
     "execution_count": 84,
     "metadata": {},
     "output_type": "execute_result"
    }
   ],
   "source": [
    "df"
   ]
  },
  {
   "cell_type": "code",
   "execution_count": 105,
   "metadata": {},
   "outputs": [],
   "source": [
    "df_sca = df.loc[:,['key','summary','story_points','quality','statuses',\n",
    "                   'lead_time','cycle_time','date_created','date_resolution',\n",
    "                   'date_starting']]"
   ]
  },
  {
   "cell_type": "code",
   "execution_count": 106,
   "metadata": {},
   "outputs": [],
   "source": [
    "df_sca.sort_values(by=['date_created'],inplace=True)"
   ]
  },
  {
   "cell_type": "code",
   "execution_count": 107,
   "metadata": {},
   "outputs": [],
   "source": [
    "df_sca['date_created_string'] = df_sca['date_created'].apply(lambda x: x.strftime('%Y-%m-%d'))"
   ]
  },
  {
   "cell_type": "code",
   "execution_count": 108,
   "metadata": {},
   "outputs": [],
   "source": [
    "df_sca['date_starting_string'] = df_sca['date_starting'].apply(lambda x: x.strftime('%Y-%m-%d'))"
   ]
  },
  {
   "cell_type": "code",
   "execution_count": 109,
   "metadata": {},
   "outputs": [
    {
     "data": {
      "text/plain": [
       "238    2021-01-12\n",
       "239    2021-01-12\n",
       "240    2021-01-12\n",
       "236    2021-01-12\n",
       "234    2021-01-12\n",
       "          ...    \n",
       "4      2021-05-18\n",
       "3      2021-05-18\n",
       "2      2021-05-18\n",
       "1      2021-05-18\n",
       "0      2021-05-20\n",
       "Name: date_created_string, Length: 268, dtype: object"
      ]
     },
     "execution_count": 109,
     "metadata": {},
     "output_type": "execute_result"
    }
   ],
   "source": [
    "df_sca['date_created_string']"
   ]
  },
  {
   "cell_type": "code",
   "execution_count": 110,
   "metadata": {},
   "outputs": [
    {
     "data": {
      "text/plain": [
       "2021-02-17    19\n",
       "2021-04-23    18\n",
       "2021-02-04    10\n",
       "2021-02-11    10\n",
       "2021-03-17     7\n",
       "              ..\n",
       "2021-02-01     1\n",
       "2021-01-26     1\n",
       "2021-03-02     1\n",
       "2021-05-23     1\n",
       "2021-02-26     1\n",
       "Name: date_starting_string, Length: 69, dtype: int64"
      ]
     },
     "execution_count": 110,
     "metadata": {},
     "output_type": "execute_result"
    }
   ],
   "source": [
    "df_sca['date_starting_string'].value_counts()"
   ]
  },
  {
   "cell_type": "code",
   "execution_count": 111,
   "metadata": {},
   "outputs": [],
   "source": [
    "df_sca['lead_time_num'] = df_sca['lead_time']/ pd.Timedelta('1 day')\n",
    "df_sca['cycle_time_num'] = df_sca['cycle_time']/ pd.Timedelta('1 day')"
   ]
  },
  {
   "cell_type": "code",
   "execution_count": 112,
   "metadata": {},
   "outputs": [
    {
     "data": {
      "text/plain": [
       "<matplotlib.collections.PathCollection at 0x7fc36a426e10>"
      ]
     },
     "execution_count": 112,
     "metadata": {},
     "output_type": "execute_result"
    },
    {
     "data": {
      "image/png": "[encoded data removed]",
      "text/plain": [
       "<Figure size 576x396 with 1 Axes>"
      ]
     },
     "metadata": {},
     "output_type": "display_data"
    }
   ],
   "source": [
    "plt.scatter(df_sca['date_created'], df_sca['lead_time_num'])"
   ]
  },
  {
   "cell_type": "code",
   "execution_count": 113,
   "metadata": {},
   "outputs": [
    {
     "data": {
      "text/plain": [
       "<matplotlib.collections.PathCollection at 0x7fc36a47f1d0>"
      ]
     },
     "execution_count": 113,
     "metadata": {},
     "output_type": "execute_result"
    },
    {
     "data": {
      "image/png": "[encoded data removed]",
      "text/plain": [
       "<Figure size 576x396 with 1 Axes>"
      ]
     },
     "metadata": {},
     "output_type": "display_data"
    }
   ],
   "source": [
    "plt.scatter(df_sca['date_created'], df_sca['cycle_time_num'])\n",
    "#plt.xlim('2021-04-01','2021-04-25')"
   ]
  },
  {
   "cell_type": "code",
   "execution_count": 114,
   "metadata": {},
   "outputs": [
    {
     "data": {
      "text/plain": [
       "<AxesSubplot:xlabel='date_starting_string', ylabel='cycle_time_num'>"
      ]
     },
     "execution_count": 114,
     "metadata": {},
     "output_type": "execute_result"
    },
    {
     "data": {
      "image/png": "[encoded data removed]",
      "text/plain": [
       "<Figure size 576x396 with 1 Axes>"
      ]
     },
     "metadata": {},
     "output_type": "display_data"
    }
   ],
   "source": [
    "sns.scatterplot(data=df_sca, x=\"date_starting_string\",\n",
    "                y=\"cycle_time_num\", hue='quality', size=\"quality\", sizes=(100, 20))"
   ]
  },
  {
   "cell_type": "code",
   "execution_count": 115,
   "metadata": {},
   "outputs": [
    {
     "data": {
      "image/png": "[encoded data removed]",
      "text/plain": [
       "<Figure size 432x432 with 1 Axes>"
      ]
     },
     "metadata": {},
     "output_type": "display_data"
    }
   ],
   "source": [
    "X_plot = df_sca.groupby(by='date_created_string')['cycle_time_num'].apply(lambda x: x.mode().iloc[0]).index\n",
    "Y_plot = df_sca.groupby(by='date_created_string')['cycle_time_num'].apply(lambda x: x.mode().iloc[0]).values\n",
    "\n",
    "g = sns.FacetGrid(df_sca, size = 6)\n",
    "g = g.map(plt.scatter, \"date_created_string\", \"cycle_time_num\", edgecolor=\"w\")\n",
    "plt.plot(X_plot, Y_plot, color='r')\n",
    "plt.show()"
   ]
  },
  {
   "cell_type": "code",
   "execution_count": 116,
   "metadata": {},
   "outputs": [
    {
     "data": {
      "text/plain": [
       "count    268.000000\n",
       "mean       1.241675\n",
       "std        3.024536\n",
       "min       -0.000012\n",
       "25%       -0.000005\n",
       "50%        0.000394\n",
       "75%        1.001686\n",
       "max       28.003601\n",
       "Name: cycle_time_num, dtype: float64"
      ]
     },
     "execution_count": 116,
     "metadata": {},
     "output_type": "execute_result"
    }
   ],
   "source": [
    "df_sca['cycle_time_num'].describe()"
   ]
  },
  {
   "cell_type": "code",
   "execution_count": 117,
   "metadata": {},
   "outputs": [
    {
     "data": {
      "text/plain": [
       "pandas.core.series.Series"
      ]
     },
     "execution_count": 117,
     "metadata": {},
     "output_type": "execute_result"
    }
   ],
   "source": [
    "type(df_sca['date_created'])"
   ]
  },
  {
   "cell_type": "code",
   "execution_count": 30,
   "metadata": {},
   "outputs": [
    {
     "data": {
      "text/plain": [
       "0   -0.000007\n",
       "1   -0.000007\n",
       "2   -0.000007\n",
       "3   -0.000004\n",
       "dtype: float64"
      ]
     },
     "execution_count": 30,
     "metadata": {},
     "output_type": "execute_result"
    }
   ],
   "source": [
    "df_sca['cycle_time_num'].mode()"
   ]
  },
  {
   "cell_type": "code",
   "execution_count": 29,
   "metadata": {},
   "outputs": [
    {
     "data": {
      "text/plain": [
       "<AxesSubplot:xlabel='cycle_time_num'>"
      ]
     },
     "execution_count": 29,
     "metadata": {},
     "output_type": "execute_result"
    },
    {
     "data": {
      "image/png": "[encoded data removed]",
      "text/plain": [
       "<Figure size 576x396 with 1 Axes>"
      ]
     },
     "metadata": {},
     "output_type": "display_data"
    }
   ],
   "source": [
    "sns.boxplot(data=df_sca, x='cycle_time_num')"
   ]
  },
  {
   "cell_type": "code",
   "execution_count": null,
   "metadata": {},
   "outputs": [],
   "source": [
    "X_plot = df_sca.groupby(by='date_created_string')['cycle_time_num'].apply(lambda x: x.mode().iloc[0]).index\n",
    "Y_plot = df_sca.groupby(by='date_created_string')['cycle_time_num'].apply(lambda x: x.mode().iloc[0]).values\n",
    "\n",
    "g = sns.FacetGrid(df_sca, size = 6)\n",
    "g = g.map(plt.scatter, \"date_created_string\", \"cycle_time_num\", edgecolor=\"w\")\n",
    "plt.plot(X_plot, Y_plot, color='r')\n",
    "plt.show()"
   ]
  }
 ],
 "metadata": {
  "kernelspec": {
   "display_name": "Python 3",
   "language": "python",
   "name": "python3"
  },
  "language_info": {
   "codemirror_mode": {
    "name": "ipython",
    "version": 3
   },
   "file_extension": ".py",
   "mimetype": "text/x-python",
   "name": "python",
   "nbconvert_exporter": "python",
   "pygments_lexer": "ipython3",
   "version": "3.7.6"
  }
 },
 "nbformat": 4,
 "nbformat_minor": 4
}
